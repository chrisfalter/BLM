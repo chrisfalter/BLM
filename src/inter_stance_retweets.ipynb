{
 "metadata": {
  "language_info": {
   "codemirror_mode": {
    "name": "ipython",
    "version": 3
   },
   "file_extension": ".py",
   "mimetype": "text/x-python",
   "name": "python",
   "nbconvert_exporter": "python",
   "pygments_lexer": "ipython3",
   "version": "3.8.3"
  },
  "orig_nbformat": 4,
  "kernelspec": {
   "name": "python3",
   "display_name": "Python 3.8.3 64-bit ('blm': conda)"
  },
  "interpreter": {
   "hash": "cffc5f2a9d67381facf27223a4588ad4e9006ed836e88cb14d06569e1c04153f"
  }
 },
 "nbformat": 4,
 "nbformat_minor": 2,
 "cells": [
  {
   "cell_type": "code",
   "execution_count": 1,
   "metadata": {},
   "outputs": [
    {
     "output_type": "stream",
     "name": "stderr",
     "text": [
      "[nltk_data] Downloading package vader_lexicon to\n[nltk_data]     C:\\Users\\chris\\AppData\\Roaming\\nltk_data...\n[nltk_data]   Package vader_lexicon is already up-to-date!\n"
     ]
    }
   ],
   "source": [
    "import pandas as pd\n",
    "import sqlite3 as sql \n",
    "\n",
    "from blm_activity_db import BlmActivityDb"
   ]
  },
  {
   "cell_type": "code",
   "execution_count": 5,
   "metadata": {},
   "outputs": [],
   "source": [
    "blm_retweeting_query = \\\n",
    "\"\"\"\n",
    "WITH BlmCommunities as (\n",
    "    SELECT CommunityId\n",
    "    FROM Community\n",
    "    WHERE PeriodId = ? and Stance = 1\n",
    "), CounterCommunities as (\n",
    "    SELECT CommunityId\n",
    "    FROM Community\n",
    "    WHERE PeriodId = ? and Stance = -1\n",
    ")\n",
    "SELECT\n",
    "    PeriodId,\n",
    "    RetweetingAccountId,\n",
    "    RetweetedAccountId,\n",
    "    RetweetingCommunityId,\n",
    "    RetweetedCommunityId,\n",
    "    NumRetweets\n",
    "FROM \n",
    "    InterCommunityRetweet cr\n",
    "WHERE \n",
    "    PeriodId = ?\n",
    "AND\n",
    "    RetweetingCommunityId in BlmCommunities\n",
    "AND\n",
    "    RetweetedCommunityId in CounterCommunities\"\"\"\n",
    "counter_retweeting_query = \\\n",
    "\"\"\"\n",
    "WITH BlmCommunities as (\n",
    "    SELECT CommunityId\n",
    "    FROM Community\n",
    "    WHERE PeriodId = ? and Stance = 1\n",
    "), CounterCommunities as (\n",
    "    SELECT CommunityId\n",
    "    FROM Community\n",
    "    WHERE PeriodId = ? and Stance = -1\n",
    ")\n",
    "SELECT\n",
    "    PeriodId,\n",
    "    RetweetingAccountId,\n",
    "    RetweetedAccountId,\n",
    "    RetweetingCommunityId,\n",
    "    RetweetedCommunityId,\n",
    "    NumRetweets\n",
    "FROM \n",
    "    InterCommunityRetweet\n",
    "WHERE \n",
    "    PeriodId = ?\n",
    "AND\n",
    "    RetweetingCommunityId in CounterCommunities\n",
    "AND\n",
    "    RetweetedCommunityId in BlmCommunities\"\"\"\n",
    "cols = [\"PeriodId\", \"RetweetingAccountId\", \"RetweetedAccountId\", \"RetweetingCommunityId\", \"RetweetedCommunityId\", \"NumTweets\"]\n",
    "def get_interstance_retweets_for_period(period: int):\n",
    "    db = BlmActivityDb()\n",
    "    with db.conn as conn:\n",
    "        cur = conn.cursor()\n",
    "        cur.execute(blm_retweeting_query, (period, period, period))\n",
    "        blm_retweets = cur.fetchall()\n",
    "        cur.execute(counter_retweeting_query, (period, period, period))\n",
    "        counter_retweets= cur.fetchall()\n",
    "    activist_retweets = pd.DataFrame(blm_retweets, columns = cols) \n",
    "    counter_retweets = pd.DataFrame(counter_retweets, columns = cols)\n",
    "    return activist_retweets, counter_retweets\n"
   ]
  },
  {
   "cell_type": "code",
   "execution_count": 6,
   "metadata": {},
   "outputs": [],
   "source": [
    "activist_retweeting_df, counter_retweeting_df = None, None\n",
    "first_period, last_period = 1, 6\n",
    "for i in range(first_period, last_period + 1):\n",
    "    activist_retweets, counter_retweets = get_interstance_retweets_for_period(i)\n",
    "    if activist_retweeting_df is None:\n",
    "        activist_retweeting_df = activist_retweets\n",
    "        counter_retweeting_df = counter_retweets\n",
    "    else:\n",
    "        activist_retweeting_df = pd.concat([activist_retweeting_df, activist_retweets], ignore_index = True)\n",
    "        counter_retweeting_df = pd.concat([counter_retweeting_df, counter_retweets], ignore_index = True)"
   ]
  },
  {
   "cell_type": "code",
   "execution_count": 8,
   "metadata": {},
   "outputs": [
    {
     "output_type": "execute_result",
     "data": {
      "text/plain": [
       "     PeriodId RetweetingAccountId  RetweetedAccountId RetweetingCommunityId  \\\n",
       "0           1          1067344104           265523983                    12   \n",
       "1           1           172926910           101875332                    12   \n",
       "2           1           172926910            88279736                    12   \n",
       "3           1           190932580            63144098                    12   \n",
       "4           1          2227552357            51173311                    12   \n",
       "...       ...                 ...                 ...                   ...   \n",
       "5771        6  996222800024227845          3721046544                     0   \n",
       "5772        6  996906889584762880           373157754                     0   \n",
       "5773        6  997168457857855488            18479513                     0   \n",
       "5774        6  997168457857855488  958428211985166336                     0   \n",
       "5775        6  998713047878336514          3023037872                     0   \n",
       "\n",
       "     RetweetedCommunityId NumTweets  \n",
       "0                       7         1  \n",
       "1                       1         1  \n",
       "2                      10         1  \n",
       "3                       2         1  \n",
       "4                       4         1  \n",
       "...                   ...       ...  \n",
       "5771                   77         1  \n",
       "5772                    6         1  \n",
       "5773                   29         1  \n",
       "5774                   92         1  \n",
       "5775                   88         1  \n",
       "\n",
       "[5776 rows x 6 columns]"
      ],
      "text/html": "<div>\n<style scoped>\n    .dataframe tbody tr th:only-of-type {\n        vertical-align: middle;\n    }\n\n    .dataframe tbody tr th {\n        vertical-align: top;\n    }\n\n    .dataframe thead th {\n        text-align: right;\n    }\n</style>\n<table border=\"1\" class=\"dataframe\">\n  <thead>\n    <tr style=\"text-align: right;\">\n      <th></th>\n      <th>PeriodId</th>\n      <th>RetweetingAccountId</th>\n      <th>RetweetedAccountId</th>\n      <th>RetweetingCommunityId</th>\n      <th>RetweetedCommunityId</th>\n      <th>NumTweets</th>\n    </tr>\n  </thead>\n  <tbody>\n    <tr>\n      <th>0</th>\n      <td>1</td>\n      <td>1067344104</td>\n      <td>265523983</td>\n      <td>12</td>\n      <td>7</td>\n      <td>1</td>\n    </tr>\n    <tr>\n      <th>1</th>\n      <td>1</td>\n      <td>172926910</td>\n      <td>101875332</td>\n      <td>12</td>\n      <td>1</td>\n      <td>1</td>\n    </tr>\n    <tr>\n      <th>2</th>\n      <td>1</td>\n      <td>172926910</td>\n      <td>88279736</td>\n      <td>12</td>\n      <td>10</td>\n      <td>1</td>\n    </tr>\n    <tr>\n      <th>3</th>\n      <td>1</td>\n      <td>190932580</td>\n      <td>63144098</td>\n      <td>12</td>\n      <td>2</td>\n      <td>1</td>\n    </tr>\n    <tr>\n      <th>4</th>\n      <td>1</td>\n      <td>2227552357</td>\n      <td>51173311</td>\n      <td>12</td>\n      <td>4</td>\n      <td>1</td>\n    </tr>\n    <tr>\n      <th>...</th>\n      <td>...</td>\n      <td>...</td>\n      <td>...</td>\n      <td>...</td>\n      <td>...</td>\n      <td>...</td>\n    </tr>\n    <tr>\n      <th>5771</th>\n      <td>6</td>\n      <td>996222800024227845</td>\n      <td>3721046544</td>\n      <td>0</td>\n      <td>77</td>\n      <td>1</td>\n    </tr>\n    <tr>\n      <th>5772</th>\n      <td>6</td>\n      <td>996906889584762880</td>\n      <td>373157754</td>\n      <td>0</td>\n      <td>6</td>\n      <td>1</td>\n    </tr>\n    <tr>\n      <th>5773</th>\n      <td>6</td>\n      <td>997168457857855488</td>\n      <td>18479513</td>\n      <td>0</td>\n      <td>29</td>\n      <td>1</td>\n    </tr>\n    <tr>\n      <th>5774</th>\n      <td>6</td>\n      <td>997168457857855488</td>\n      <td>958428211985166336</td>\n      <td>0</td>\n      <td>92</td>\n      <td>1</td>\n    </tr>\n    <tr>\n      <th>5775</th>\n      <td>6</td>\n      <td>998713047878336514</td>\n      <td>3023037872</td>\n      <td>0</td>\n      <td>88</td>\n      <td>1</td>\n    </tr>\n  </tbody>\n</table>\n<p>5776 rows × 6 columns</p>\n</div>"
     },
     "metadata": {},
     "execution_count": 8
    }
   ],
   "source": [
    "counter_retweeting_df"
   ]
  },
  {
   "cell_type": "code",
   "execution_count": 54,
   "metadata": {},
   "outputs": [],
   "source": [
    "query = \\\n",
    "\"\"\"\n",
    "WITH UnknownCommunities as (\n",
    "    SELECT CommunityId\n",
    "    FROM Community\n",
    "    WHERE PeriodId = ? and Stance = 0\n",
    ")\n",
    "SELECT\n",
    "    \"Retweeting\" as Direction,\n",
    "    NumRetweets\n",
    "FROM \n",
    "    InterCommunityRetweet\n",
    "WHERE \n",
    "    PeriodId = ?\n",
    "AND\n",
    "    RetweetingCommunityId in UnknownCommunities\n",
    "AND\n",
    "    RetweetedCommunityId not in UnknownCommunities\n",
    "UNION\n",
    "SELECT\n",
    "    \"Retweeted\" as Direction,\n",
    "    NumRetweets\n",
    "FROM \n",
    "    InterCommunityRetweet\n",
    "WHERE \n",
    "    PeriodId = ?\n",
    "AND\n",
    "    RetweetedCommunityId in UnknownCommunities\n",
    "AND\n",
    "    RetweetingCommunityId not in UnknownCommunities\n",
    "\"\"\"\n",
    "db = BlmActivityDb()\n",
    "unknown_retweets = []\n",
    "for i in range(1, 7):\n",
    "    with db.conn as conn:\n",
    "        cur = conn.cursor()\n",
    "        cur.execute(query, (i, i, i))\n",
    "        unknown_retweets.extend(cur.fetchall())\n",
    "unknown_retweets = pd.DataFrame(unknown_retweets, columns = [\"Direction\", \"NumRetweets\"]) \n"
   ]
  },
  {
   "cell_type": "code",
   "execution_count": 55,
   "metadata": {},
   "outputs": [
    {
     "output_type": "execute_result",
     "data": {
      "text/plain": [
       "9"
      ]
     },
     "metadata": {},
     "execution_count": 55
    }
   ],
   "source": [
    "len(unknown_retweets)"
   ]
  },
  {
   "cell_type": "code",
   "execution_count": 33,
   "metadata": {},
   "outputs": [],
   "source": [
    "activist_retweeting_summary = activist_retweeting_df[[\"PeriodId\", \"RetweetingAccountId\", \"NumTweets\"]]\\\n",
    "    .groupby([\"PeriodId\", \"RetweetingAccountId\"], as_index=False)\\\n",
    "    .sum()\\\n",
    "    .sort_values(by=[\"RetweetingAccountId\", \"PeriodId\"])\n"
   ]
  },
  {
   "cell_type": "code",
   "execution_count": 32,
   "metadata": {},
   "outputs": [
    {
     "output_type": "execute_result",
     "data": {
      "text/plain": [
       "      PeriodId  RetweetingAccountId  NumTweets\n",
       "3886         6           1000145114          1\n",
       "1663         5  1000924337082388481          5\n",
       "3887         6  1000924337082388481          7\n",
       "1664         5  1000963649924665344          1\n",
       "3888         6            100136328          1\n",
       "...        ...                  ...        ...\n",
       "6268         6   998677512103264256          1\n",
       "6269         6   998998809815408641          1\n",
       "6270         6             99989453          1\n",
       "792          2            999906110          1\n",
       "3885         5   999995188981522432          1\n",
       "\n",
       "[6271 rows x 3 columns]"
      ],
      "text/html": "<div>\n<style scoped>\n    .dataframe tbody tr th:only-of-type {\n        vertical-align: middle;\n    }\n\n    .dataframe tbody tr th {\n        vertical-align: top;\n    }\n\n    .dataframe thead th {\n        text-align: right;\n    }\n</style>\n<table border=\"1\" class=\"dataframe\">\n  <thead>\n    <tr style=\"text-align: right;\">\n      <th></th>\n      <th>PeriodId</th>\n      <th>RetweetingAccountId</th>\n      <th>NumTweets</th>\n    </tr>\n  </thead>\n  <tbody>\n    <tr>\n      <th>3886</th>\n      <td>6</td>\n      <td>1000145114</td>\n      <td>1</td>\n    </tr>\n    <tr>\n      <th>1663</th>\n      <td>5</td>\n      <td>1000924337082388481</td>\n      <td>5</td>\n    </tr>\n    <tr>\n      <th>3887</th>\n      <td>6</td>\n      <td>1000924337082388481</td>\n      <td>7</td>\n    </tr>\n    <tr>\n      <th>1664</th>\n      <td>5</td>\n      <td>1000963649924665344</td>\n      <td>1</td>\n    </tr>\n    <tr>\n      <th>3888</th>\n      <td>6</td>\n      <td>100136328</td>\n      <td>1</td>\n    </tr>\n    <tr>\n      <th>...</th>\n      <td>...</td>\n      <td>...</td>\n      <td>...</td>\n    </tr>\n    <tr>\n      <th>6268</th>\n      <td>6</td>\n      <td>998677512103264256</td>\n      <td>1</td>\n    </tr>\n    <tr>\n      <th>6269</th>\n      <td>6</td>\n      <td>998998809815408641</td>\n      <td>1</td>\n    </tr>\n    <tr>\n      <th>6270</th>\n      <td>6</td>\n      <td>99989453</td>\n      <td>1</td>\n    </tr>\n    <tr>\n      <th>792</th>\n      <td>2</td>\n      <td>999906110</td>\n      <td>1</td>\n    </tr>\n    <tr>\n      <th>3885</th>\n      <td>5</td>\n      <td>999995188981522432</td>\n      <td>1</td>\n    </tr>\n  </tbody>\n</table>\n<p>6271 rows × 3 columns</p>\n</div>"
     },
     "metadata": {},
     "execution_count": 32
    }
   ],
   "source": [
    "activist_retweeting_summary"
   ]
  },
  {
   "cell_type": "code",
   "execution_count": 35,
   "metadata": {},
   "outputs": [
    {
     "output_type": "execute_result",
     "data": {
      "text/plain": [
       "(7461, 7461)"
      ]
     },
     "metadata": {},
     "execution_count": 35
    }
   ],
   "source": [
    "len(activist_retweeting_df), activist_retweeting_df.NumTweets.sum() \n",
    "# 7461. Therefore, number of accounts retweeting multiple counter-protest accounts during a period ~= 1190 (7461 - 6271)"
   ]
  },
  {
   "cell_type": "code",
   "execution_count": 41,
   "metadata": {},
   "outputs": [
    {
     "output_type": "execute_result",
     "data": {
      "text/plain": [
       "      RetweetingAccountId  PeriodId\n",
       "0              1000145114         1\n",
       "1     1000924337082388481         2\n",
       "2     1000963649924665344         1\n",
       "3               100136328         1\n",
       "4     1001413907318296576         1\n",
       "...                   ...       ...\n",
       "6147   998677512103264256         1\n",
       "6148   998998809815408641         1\n",
       "6149             99989453         1\n",
       "6150            999906110         1\n",
       "6151   999995188981522432         1\n",
       "\n",
       "[6152 rows x 2 columns]"
      ],
      "text/html": "<div>\n<style scoped>\n    .dataframe tbody tr th:only-of-type {\n        vertical-align: middle;\n    }\n\n    .dataframe tbody tr th {\n        vertical-align: top;\n    }\n\n    .dataframe thead th {\n        text-align: right;\n    }\n</style>\n<table border=\"1\" class=\"dataframe\">\n  <thead>\n    <tr style=\"text-align: right;\">\n      <th></th>\n      <th>RetweetingAccountId</th>\n      <th>PeriodId</th>\n    </tr>\n  </thead>\n  <tbody>\n    <tr>\n      <th>0</th>\n      <td>1000145114</td>\n      <td>1</td>\n    </tr>\n    <tr>\n      <th>1</th>\n      <td>1000924337082388481</td>\n      <td>2</td>\n    </tr>\n    <tr>\n      <th>2</th>\n      <td>1000963649924665344</td>\n      <td>1</td>\n    </tr>\n    <tr>\n      <th>3</th>\n      <td>100136328</td>\n      <td>1</td>\n    </tr>\n    <tr>\n      <th>4</th>\n      <td>1001413907318296576</td>\n      <td>1</td>\n    </tr>\n    <tr>\n      <th>...</th>\n      <td>...</td>\n      <td>...</td>\n    </tr>\n    <tr>\n      <th>6147</th>\n      <td>998677512103264256</td>\n      <td>1</td>\n    </tr>\n    <tr>\n      <th>6148</th>\n      <td>998998809815408641</td>\n      <td>1</td>\n    </tr>\n    <tr>\n      <th>6149</th>\n      <td>99989453</td>\n      <td>1</td>\n    </tr>\n    <tr>\n      <th>6150</th>\n      <td>999906110</td>\n      <td>1</td>\n    </tr>\n    <tr>\n      <th>6151</th>\n      <td>999995188981522432</td>\n      <td>1</td>\n    </tr>\n  </tbody>\n</table>\n<p>6152 rows × 2 columns</p>\n</div>"
     },
     "metadata": {},
     "execution_count": 41
    }
   ],
   "source": [
    "activist_periods_df = activist_retweeting_summary[[\"PeriodId\", \"RetweetingAccountId\"]]\\\n",
    "    .groupby(\"RetweetingAccountId\", as_index=False)\\\n",
    "    .count()\n",
    "activist_periods_df"
   ]
  },
  {
   "cell_type": "code",
   "execution_count": 44,
   "metadata": {},
   "outputs": [
    {
     "output_type": "execute_result",
     "data": {
      "text/plain": [
       "   PeriodId  RetweetingAccountId\n",
       "0         1                 6034\n",
       "1         2                  117\n",
       "2         3                    1"
      ],
      "text/html": "<div>\n<style scoped>\n    .dataframe tbody tr th:only-of-type {\n        vertical-align: middle;\n    }\n\n    .dataframe tbody tr th {\n        vertical-align: top;\n    }\n\n    .dataframe thead th {\n        text-align: right;\n    }\n</style>\n<table border=\"1\" class=\"dataframe\">\n  <thead>\n    <tr style=\"text-align: right;\">\n      <th></th>\n      <th>PeriodId</th>\n      <th>RetweetingAccountId</th>\n    </tr>\n  </thead>\n  <tbody>\n    <tr>\n      <th>0</th>\n      <td>1</td>\n      <td>6034</td>\n    </tr>\n    <tr>\n      <th>1</th>\n      <td>2</td>\n      <td>117</td>\n    </tr>\n    <tr>\n      <th>2</th>\n      <td>3</td>\n      <td>1</td>\n    </tr>\n  </tbody>\n</table>\n</div>"
     },
     "metadata": {},
     "execution_count": 44
    }
   ],
   "source": [
    "activist_periods_df.groupby([\"PeriodId\"], as_index=False).count()"
   ]
  },
  {
   "cell_type": "code",
   "execution_count": 45,
   "metadata": {},
   "outputs": [],
   "source": [
    "counter_retweeting_summary = counter_retweeting_df[[\"PeriodId\", \"RetweetingAccountId\", \"NumTweets\"]]\\\n",
    "    .groupby([\"PeriodId\", \"RetweetingAccountId\"], as_index=False)\\\n",
    "    .sum()\\\n",
    "    .sort_values(by=[\"RetweetingAccountId\", \"PeriodId\"])\n"
   ]
  },
  {
   "cell_type": "code",
   "execution_count": 48,
   "metadata": {},
   "outputs": [
    {
     "output_type": "execute_result",
     "data": {
      "text/plain": [
       "array([1], dtype=object)"
      ]
     },
     "metadata": {},
     "execution_count": 48
    }
   ],
   "source": [
    "counter_retweeting_df.NumTweets.unique()"
   ]
  },
  {
   "cell_type": "code",
   "execution_count": 50,
   "metadata": {},
   "outputs": [
    {
     "output_type": "execute_result",
     "data": {
      "text/plain": [
       "(5776, 4446)"
      ]
     },
     "metadata": {},
     "execution_count": 50
    }
   ],
   "source": [
    "len(counter_retweeting_df), len(counter_retweeting_summary)\r\n",
    "# 5776 - 4446 ~= 1330 that retweeted two different accounts from activist community"
   ]
  },
  {
   "cell_type": "code",
   "execution_count": 52,
   "metadata": {},
   "outputs": [
    {
     "output_type": "execute_result",
     "data": {
      "text/plain": [
       "   PeriodId  RetweetingAccountId\n",
       "0         1                 4080\n",
       "1         2                  177\n",
       "2         3                    4"
      ],
      "text/html": "<div>\n<style scoped>\n    .dataframe tbody tr th:only-of-type {\n        vertical-align: middle;\n    }\n\n    .dataframe tbody tr th {\n        vertical-align: top;\n    }\n\n    .dataframe thead th {\n        text-align: right;\n    }\n</style>\n<table border=\"1\" class=\"dataframe\">\n  <thead>\n    <tr style=\"text-align: right;\">\n      <th></th>\n      <th>PeriodId</th>\n      <th>RetweetingAccountId</th>\n    </tr>\n  </thead>\n  <tbody>\n    <tr>\n      <th>0</th>\n      <td>1</td>\n      <td>4080</td>\n    </tr>\n    <tr>\n      <th>1</th>\n      <td>2</td>\n      <td>177</td>\n    </tr>\n    <tr>\n      <th>2</th>\n      <td>3</td>\n      <td>4</td>\n    </tr>\n  </tbody>\n</table>\n</div>"
     },
     "metadata": {},
     "execution_count": 52
    }
   ],
   "source": [
    "counter_periods_df = counter_retweeting_summary[[\"PeriodId\", \"RetweetingAccountId\"]]\\\n",
    "    .groupby(\"RetweetingAccountId\", as_index=False)\\\n",
    "    .count()\n",
    "counter_periods_df.groupby([\"PeriodId\"], as_index=False).count()"
   ]
  },
  {
   "cell_type": "code",
   "execution_count": 75,
   "metadata": {},
   "outputs": [],
   "source": [
    "# these queries would be bolloxed if any account retweeted cross-stance more than once in a period. But they never did.\n",
    "blm_retweeting_query = \\\n",
    "\"\"\"\n",
    "WITH BlmCommunities as (\n",
    "    SELECT CommunityId\n",
    "    FROM Community\n",
    "    WHERE PeriodId = ? and Stance = 1\n",
    "), CounterCommunities as (\n",
    "    SELECT CommunityId\n",
    "    FROM Community\n",
    "    WHERE PeriodId = ? and Stance = -1\n",
    ")\n",
    "SELECT\n",
    "    cr.PeriodId,\n",
    "    RetweetingAccountId,\n",
    "    RetweetedAccountId,\n",
    "    RetweetingCommunityId,\n",
    "    RetweetedCommunityId,\n",
    "    NumTweets,\n",
    "    a.NumRetweets,\n",
    "    cr.NumRetweets as CrossStanceRetweets\n",
    "FROM \n",
    "    InterCommunityRetweet cr\n",
    "JOIN\n",
    "    AccountActivity a\n",
    "ON\n",
    "    cr.RetweetingAccountId = a.AccountId\n",
    "AND\n",
    "    cr.PeriodId = a.PeriodId\n",
    "WHERE \n",
    "    cr.PeriodId = ?\n",
    "AND\n",
    "    RetweetingCommunityId in BlmCommunities\n",
    "AND\n",
    "    RetweetedCommunityId in CounterCommunities\"\"\"\n",
    "counter_retweeting_query = \\\n",
    "\"\"\"\n",
    "WITH BlmCommunities as (\n",
    "    SELECT CommunityId\n",
    "    FROM Community\n",
    "    WHERE PeriodId = ? and Stance = 1\n",
    "), CounterCommunities as (\n",
    "    SELECT CommunityId\n",
    "    FROM Community\n",
    "    WHERE PeriodId = ? and Stance = -1\n",
    ")\n",
    "SELECT\n",
    "    cr.PeriodId,\n",
    "    RetweetingAccountId,\n",
    "    RetweetedAccountId,\n",
    "    RetweetingCommunityId,\n",
    "    RetweetedCommunityId,\n",
    "    NumTweets,\n",
    "    a.NumRetweets,\n",
    "    cr.NumRetweets as CrossStanceRetweets\n",
    "FROM \n",
    "    InterCommunityRetweet cr\n",
    "JOIN\n",
    "    AccountActivity a\n",
    "ON\n",
    "    cr.RetweetingAccountId = a.AccountId\n",
    "AND\n",
    "    cr.PeriodId = a.PeriodId\n",
    "WHERE \n",
    "    cr.PeriodId = ?\n",
    "AND\n",
    "    RetweetingCommunityId in CounterCommunities\n",
    "AND\n",
    "    RetweetedCommunityId in BlmCommunities\"\"\"\n",
    "cols = [\n",
    "    \"PeriodId\", \n",
    "    \"RetweetingAccountId\", \n",
    "    \"RetweetedAccountId\", \n",
    "    \"RetweetingCommunityId\", \n",
    "    \"RetweetedCommunityId\", \n",
    "    \"NumTweets\", \n",
    "    \"NumRetweets\",\n",
    "    \"CrossStanceRetweets\"\n",
    "]\n",
    "def get_interstance_retweets_for_period(period: int):\n",
    "    db = BlmActivityDb()\n",
    "    with db.conn as conn:\n",
    "        cur = conn.cursor()\n",
    "        cur.execute(blm_retweeting_query, (period, period, period))\n",
    "        blm_retweets = cur.fetchall()\n",
    "        cur.execute(counter_retweeting_query, (period, period, period))\n",
    "        counter_retweets= cur.fetchall()\n",
    "    a_retweets = pd.DataFrame(blm_retweets, columns = cols) \n",
    "    c_retweets = pd.DataFrame(counter_retweets, columns = cols)\n",
    "    return a_retweets, c_retweets\n"
   ]
  },
  {
   "cell_type": "code",
   "execution_count": 76,
   "metadata": {},
   "outputs": [],
   "source": [
    "a_retweets = None\n",
    "c_retweets = None\n",
    "for i in range(1, 7):\n",
    "    a, c = get_interstance_retweets_for_period(i)\n",
    "    if a_retweets is None:\n",
    "        a_retweets = a\n",
    "        c_retweets = c\n",
    "    else:\n",
    "        a_retweets = pd.concat([a_retweets, a], ignore_index = True)\n",
    "        c_retweets = pd.concat([c_retweets, c], ignore_index = True)\n"
   ]
  },
  {
   "cell_type": "code",
   "execution_count": 77,
   "metadata": {},
   "outputs": [
    {
     "output_type": "execute_result",
     "data": {
      "text/plain": [
       "(7461, 5776)"
      ]
     },
     "metadata": {},
     "execution_count": 77
    }
   ],
   "source": [
    "len(a_retweets), len(c_retweets)"
   ]
  },
  {
   "cell_type": "code",
   "execution_count": 91,
   "metadata": {},
   "outputs": [
    {
     "output_type": "execute_result",
     "data": {
      "text/plain": [
       "   PeriodId  NumRetweets  CrossStanceRetweets\n",
       "0         1          507                   24\n",
       "1         2        49315                  844\n",
       "2         3       194715                 1124\n",
       "3         5        10950                 2286\n",
       "4         6        75415                 3183"
      ],
      "text/html": "<div>\n<style scoped>\n    .dataframe tbody tr th:only-of-type {\n        vertical-align: middle;\n    }\n\n    .dataframe tbody tr th {\n        vertical-align: top;\n    }\n\n    .dataframe thead th {\n        text-align: right;\n    }\n</style>\n<table border=\"1\" class=\"dataframe\">\n  <thead>\n    <tr style=\"text-align: right;\">\n      <th></th>\n      <th>PeriodId</th>\n      <th>NumRetweets</th>\n      <th>CrossStanceRetweets</th>\n    </tr>\n  </thead>\n  <tbody>\n    <tr>\n      <th>0</th>\n      <td>1</td>\n      <td>507</td>\n      <td>24</td>\n    </tr>\n    <tr>\n      <th>1</th>\n      <td>2</td>\n      <td>49315</td>\n      <td>844</td>\n    </tr>\n    <tr>\n      <th>2</th>\n      <td>3</td>\n      <td>194715</td>\n      <td>1124</td>\n    </tr>\n    <tr>\n      <th>3</th>\n      <td>5</td>\n      <td>10950</td>\n      <td>2286</td>\n    </tr>\n    <tr>\n      <th>4</th>\n      <td>6</td>\n      <td>75415</td>\n      <td>3183</td>\n    </tr>\n  </tbody>\n</table>\n</div>"
     },
     "metadata": {},
     "execution_count": 91
    }
   ],
   "source": [
    "a_retweets = a_retweets[['PeriodId', 'NumRetweets', 'CrossStanceRetweets']].groupby(\"PeriodId\", as_index=False).sum()\n",
    "a_retweets"
   ]
  },
  {
   "cell_type": "code",
   "execution_count": 92,
   "metadata": {},
   "outputs": [
    {
     "output_type": "execute_result",
     "data": {
      "text/plain": [
       "   PeriodId  NumRetweets  CrossStanceRetweets\n",
       "0         1          465                   46\n",
       "1         2         6173                  861\n",
       "2         3        11828                  983\n",
       "3         5        55548                 1292\n",
       "4         6        22901                 2594"
      ],
      "text/html": "<div>\n<style scoped>\n    .dataframe tbody tr th:only-of-type {\n        vertical-align: middle;\n    }\n\n    .dataframe tbody tr th {\n        vertical-align: top;\n    }\n\n    .dataframe thead th {\n        text-align: right;\n    }\n</style>\n<table border=\"1\" class=\"dataframe\">\n  <thead>\n    <tr style=\"text-align: right;\">\n      <th></th>\n      <th>PeriodId</th>\n      <th>NumRetweets</th>\n      <th>CrossStanceRetweets</th>\n    </tr>\n  </thead>\n  <tbody>\n    <tr>\n      <th>0</th>\n      <td>1</td>\n      <td>465</td>\n      <td>46</td>\n    </tr>\n    <tr>\n      <th>1</th>\n      <td>2</td>\n      <td>6173</td>\n      <td>861</td>\n    </tr>\n    <tr>\n      <th>2</th>\n      <td>3</td>\n      <td>11828</td>\n      <td>983</td>\n    </tr>\n    <tr>\n      <th>3</th>\n      <td>5</td>\n      <td>55548</td>\n      <td>1292</td>\n    </tr>\n    <tr>\n      <th>4</th>\n      <td>6</td>\n      <td>22901</td>\n      <td>2594</td>\n    </tr>\n  </tbody>\n</table>\n</div>"
     },
     "metadata": {},
     "execution_count": 92
    }
   ],
   "source": [
    "c_retweets = c_retweets[['PeriodId', 'NumRetweets', 'CrossStanceRetweets']].groupby(\"PeriodId\", as_index=False).sum()\n",
    "c_retweets"
   ]
  },
  {
   "cell_type": "code",
   "execution_count": 93,
   "metadata": {},
   "outputs": [
    {
     "output_type": "execute_result",
     "data": {
      "text/plain": [
       "   PeriodId  NumRetweets  CrossStanceRetweets  TotalRetweets  \\\n",
       "0         1          507                   24          36128   \n",
       "1         2        49315                  844         421881   \n",
       "2         3       194715                 1124         341173   \n",
       "3         5        10950                 2286        1654295   \n",
       "4         6        75415                 3183         450234   \n",
       "\n",
       "   PctCrossStanceIndividually  PctCrossStanceGlobally  \n",
       "0                    0.047337                0.000664  \n",
       "1                    0.017114                0.002001  \n",
       "2                    0.005773                0.003295  \n",
       "3                    0.208767                0.001382  \n",
       "4                    0.042206                0.007070  "
      ],
      "text/html": "<div>\n<style scoped>\n    .dataframe tbody tr th:only-of-type {\n        vertical-align: middle;\n    }\n\n    .dataframe tbody tr th {\n        vertical-align: top;\n    }\n\n    .dataframe thead th {\n        text-align: right;\n    }\n</style>\n<table border=\"1\" class=\"dataframe\">\n  <thead>\n    <tr style=\"text-align: right;\">\n      <th></th>\n      <th>PeriodId</th>\n      <th>NumRetweets</th>\n      <th>CrossStanceRetweets</th>\n      <th>TotalRetweets</th>\n      <th>PctCrossStanceIndividually</th>\n      <th>PctCrossStanceGlobally</th>\n    </tr>\n  </thead>\n  <tbody>\n    <tr>\n      <th>0</th>\n      <td>1</td>\n      <td>507</td>\n      <td>24</td>\n      <td>36128</td>\n      <td>0.047337</td>\n      <td>0.000664</td>\n    </tr>\n    <tr>\n      <th>1</th>\n      <td>2</td>\n      <td>49315</td>\n      <td>844</td>\n      <td>421881</td>\n      <td>0.017114</td>\n      <td>0.002001</td>\n    </tr>\n    <tr>\n      <th>2</th>\n      <td>3</td>\n      <td>194715</td>\n      <td>1124</td>\n      <td>341173</td>\n      <td>0.005773</td>\n      <td>0.003295</td>\n    </tr>\n    <tr>\n      <th>3</th>\n      <td>5</td>\n      <td>10950</td>\n      <td>2286</td>\n      <td>1654295</td>\n      <td>0.208767</td>\n      <td>0.001382</td>\n    </tr>\n    <tr>\n      <th>4</th>\n      <td>6</td>\n      <td>75415</td>\n      <td>3183</td>\n      <td>450234</td>\n      <td>0.042206</td>\n      <td>0.007070</td>\n    </tr>\n  </tbody>\n</table>\n</div>"
     },
     "metadata": {},
     "execution_count": 93
    }
   ],
   "source": [
    "import numpy as np\n",
    "\n",
    "# Add Total Retweets by Stance\n",
    "a_retweets[\"TotalRetweets\"] = np.array([36128, 421881, 341173, 1654295, 450234])\n",
    "c_retweets[\"TotalRetweets\"] = np.array([845, 15000, 27087, 88421, 326943])\n",
    "a_retweets[\"PctCrossStanceIndividually\"] = a_retweets.CrossStanceRetweets / a_retweets.NumRetweets\n",
    "c_retweets[\"PctCrossStanceIndividually\"] = c_retweets.CrossStanceRetweets / c_retweets.NumRetweets\n",
    "a_retweets[\"PctCrossStanceGlobally\"] = a_retweets.CrossStanceRetweets / a_retweets.TotalRetweets\n",
    "c_retweets[\"PctCrossStanceGlobally\"] = c_retweets.CrossStanceRetweets / c_retweets.TotalRetweets\n",
    "a_retweets"
   ]
  },
  {
   "cell_type": "code",
   "execution_count": 94,
   "metadata": {},
   "outputs": [
    {
     "output_type": "execute_result",
     "data": {
      "text/plain": [
       "   PeriodId  NumRetweets  CrossStanceRetweets  TotalRetweets  \\\n",
       "0         1          465                   46            845   \n",
       "1         2         6173                  861          15000   \n",
       "2         3        11828                  983          27087   \n",
       "3         5        55548                 1292          88421   \n",
       "4         6        22901                 2594         326943   \n",
       "\n",
       "   PctCrossStanceIndividually  PctCrossStanceGlobally  \n",
       "0                    0.098925                0.054438  \n",
       "1                    0.139478                0.057400  \n",
       "2                    0.083108                0.036290  \n",
       "3                    0.023259                0.014612  \n",
       "4                    0.113270                0.007934  "
      ],
      "text/html": "<div>\n<style scoped>\n    .dataframe tbody tr th:only-of-type {\n        vertical-align: middle;\n    }\n\n    .dataframe tbody tr th {\n        vertical-align: top;\n    }\n\n    .dataframe thead th {\n        text-align: right;\n    }\n</style>\n<table border=\"1\" class=\"dataframe\">\n  <thead>\n    <tr style=\"text-align: right;\">\n      <th></th>\n      <th>PeriodId</th>\n      <th>NumRetweets</th>\n      <th>CrossStanceRetweets</th>\n      <th>TotalRetweets</th>\n      <th>PctCrossStanceIndividually</th>\n      <th>PctCrossStanceGlobally</th>\n    </tr>\n  </thead>\n  <tbody>\n    <tr>\n      <th>0</th>\n      <td>1</td>\n      <td>465</td>\n      <td>46</td>\n      <td>845</td>\n      <td>0.098925</td>\n      <td>0.054438</td>\n    </tr>\n    <tr>\n      <th>1</th>\n      <td>2</td>\n      <td>6173</td>\n      <td>861</td>\n      <td>15000</td>\n      <td>0.139478</td>\n      <td>0.057400</td>\n    </tr>\n    <tr>\n      <th>2</th>\n      <td>3</td>\n      <td>11828</td>\n      <td>983</td>\n      <td>27087</td>\n      <td>0.083108</td>\n      <td>0.036290</td>\n    </tr>\n    <tr>\n      <th>3</th>\n      <td>5</td>\n      <td>55548</td>\n      <td>1292</td>\n      <td>88421</td>\n      <td>0.023259</td>\n      <td>0.014612</td>\n    </tr>\n    <tr>\n      <th>4</th>\n      <td>6</td>\n      <td>22901</td>\n      <td>2594</td>\n      <td>326943</td>\n      <td>0.113270</td>\n      <td>0.007934</td>\n    </tr>\n  </tbody>\n</table>\n</div>"
     },
     "metadata": {},
     "execution_count": 94
    }
   ],
   "source": [
    "c_retweets"
   ]
  },
  {
   "cell_type": "code",
   "execution_count": null,
   "metadata": {},
   "outputs": [],
   "source": []
  }
 ]
}