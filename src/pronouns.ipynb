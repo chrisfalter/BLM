{
 "metadata": {
  "language_info": {
   "codemirror_mode": {
    "name": "ipython",
    "version": 3
   },
   "file_extension": ".py",
   "mimetype": "text/x-python",
   "name": "python",
   "nbconvert_exporter": "python",
   "pygments_lexer": "ipython3",
   "version": "3.8.3"
  },
  "orig_nbformat": 4,
  "kernelspec": {
   "name": "python3",
   "display_name": "Python 3.8.3 64-bit ('blm': conda)"
  },
  "interpreter": {
   "hash": "cffc5f2a9d67381facf27223a4588ad4e9006ed836e88cb14d06569e1c04153f"
  }
 },
 "nbformat": 4,
 "nbformat_minor": 2,
 "cells": [
  {
   "cell_type": "code",
   "execution_count": 27,
   "metadata": {},
   "outputs": [],
   "source": [
    "import matplotlib.pyplot as plt\n",
    "import pandas as pd\n",
    "from string import Template\n",
    "\n",
    "from blm_activity_db import BlmActivityDb, Community\n",
    "from tweet_mgr import Stance\n",
    "from tweet_sentiment import PronounCounts\n"
   ]
  },
  {
   "cell_type": "code",
   "execution_count": 20,
   "metadata": {},
   "outputs": [],
   "source": [
    "db = BlmActivityDb()\n",
    "col_names = [\"Stance\", \"NumTweets\", \"FirstSingularUsage\", \"FirstPluralUsage\", \"SecondUsage\", \"ThirdUsage\"]\n",
    "pronoun_columns = \", a.\".join(col_names)\n",
    "query = \\\n",
    "f\"SELECT {pronoun_columns} \"\\\n",
    "\"FROM Community c JOIN AccountActivity a \"\\\n",
    "\"ON c.PeriodId = a.PeriodId and c.CommunityId = a.CommunityId \"\\\n",
    "\"WHERE c.PeriodId = ? and c.Stance in (-1, 1) \"\n",
    "\n",
    "def get_pronoun_counts(period: int):\n",
    "    activist_pc, counter_pc = PronounCounts(), PronounCounts()\n",
    "    activist_tweets, counter_tweets = 0, 0\n",
    "    with db.conn:\n",
    "        cur = db.conn.cursor()\n",
    "        cur.execute(query, (period,))\n",
    "        row = cur.fetchone()\n",
    "        while row:\n",
    "            num_tweets = row[1]\n",
    "            if row[0] == Stance.Protest:\n",
    "                activist_tweets += num_tweets\n",
    "                activist_pc.first_singular += num_tweets * row[2]\n",
    "                activist_pc.first_plural += num_tweets * row[3]\n",
    "                activist_pc.second += num_tweets * row[4]\n",
    "                activist_pc.third += num_tweets * row[5]\n",
    "            else:\n",
    "                counter_tweets += num_tweets\n",
    "                counter_pc.first_singular += num_tweets * row[2]\n",
    "                counter_pc.first_plural += num_tweets * row[3]\n",
    "                counter_pc.second += num_tweets * row[4]\n",
    "                counter_pc.third += num_tweets * row[5]\n",
    "            row = cur.fetchone()\n",
    "    activist_pc /= activist_tweets\n",
    "    counter_pc /= counter_tweets\n",
    "    return activist_pc, counter_pc\n"
   ]
  },
  {
   "cell_type": "code",
   "execution_count": 30,
   "metadata": {},
   "outputs": [],
   "source": [
    "template = Template(\"\"\"\n",
    "## Pronoun Usage for Period $period\n",
    "\n",
    "| Stance | First Person Singular | First Person Plural | Second Person | Third Person |\n",
    "|:------:|:-----:|:-----:|:-----:|:-----:|\n",
    "| Activist | $afs | $afp | $as | $at |\n",
    "| Counter-Protest | $cfs | $cfp | $cs |$ct |\n",
    "\n",
    "\"\"\")\n",
    "report = \"\"\n",
    "for period in [i for i in range(1, 7)]:\n",
    "    a_pc, c_pc = get_pronoun_counts(period)\n",
    "    subs = {\n",
    "        \"period\": period,\n",
    "        \"afs\": round(a_pc.first_singular, 3), \n",
    "        \"afp\": round(a_pc.first_plural, 3), \n",
    "        \"as\": round(a_pc.second, 3), \n",
    "        \"at\": round(a_pc.third, 3),\n",
    "        \"cfs\": round(c_pc.first_singular, 3), \n",
    "        \"cfp\": round(c_pc.first_plural, 3), \n",
    "        \"cs\": round(c_pc.second, 3), \n",
    "        \"ct\": round(c_pc.third, 3),\n",
    "    }\n",
    "    report += template.safe_substitute(subs)\n",
    "\n",
    "report_path = \"../data/Reports/pronoun_counts.md\"\n",
    "with open(report_path, \"w\") as f:\n",
    "    f.write(report)"
   ]
  },
  {
   "cell_type": "code",
   "execution_count": null,
   "metadata": {},
   "outputs": [],
   "source": []
  }
 ]
}