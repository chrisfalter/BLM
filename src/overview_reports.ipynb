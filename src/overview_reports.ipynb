{
 "metadata": {
  "language_info": {
   "codemirror_mode": {
    "name": "ipython",
    "version": 3
   },
   "file_extension": ".py",
   "mimetype": "text/x-python",
   "name": "python",
   "nbconvert_exporter": "python",
   "pygments_lexer": "ipython3",
   "version": "3.8.3"
  },
  "orig_nbformat": 4,
  "kernelspec": {
   "name": "python3",
   "display_name": "Python 3.8.3 64-bit ('blm': conda)"
  },
  "interpreter": {
   "hash": "cffc5f2a9d67381facf27223a4588ad4e9006ed836e88cb14d06569e1c04153f"
  }
 },
 "nbformat": 4,
 "nbformat_minor": 2,
 "cells": [
  {
   "cell_type": "code",
   "execution_count": 23,
   "metadata": {},
   "outputs": [],
   "source": [
    "from string import Template\n",
    "import pandas as pd\n",
    "\n",
    "import sqlite3 as sql \n",
    "\n",
    "from blm_activity_db import BlmActivityDb"
   ]
  },
  {
   "cell_type": "code",
   "execution_count": 76,
   "metadata": {},
   "outputs": [],
   "source": [
    "period_template = Template(\"\"\"\n",
    "## Overview for period $period\n",
    "\n",
    "| Measure | Activist | Counter-protest | Unknown |\n",
    "|-----:|:-----:|:-----:|:-----|\n",
    "| **Accounts** | **$num_accounts_a** | **$num_accounts_c** | **$num_accounts_u** |\n",
    "| Percent of total | $pct_accounts_a | $pct_accounts_c | $pct_accounts_u |\n",
    "| Tweets/day | $tweets_day_a | $tweets_day_c | $tweets_day_u |\n",
    "| Retweets/day | $retweets_day_a |  $retweets_day_c | $retweets_day_u |\n",
    "| **Communities** | **$num_comms_a** | **$num_comms_c** | **$num_comms_u** |\n",
    "| Percent of total | $pct_comms_a% | $pct_comms_c% | $pct_comms_u% |\n",
    "| Largest size | $largest_a | $largest_c | $largest_u |\n",
    "\n",
    "\n",
    "\"\"\")\n",
    "\n",
    "def period_overview_report(\n",
    "    period: int,\n",
    "    num_accounts_a: int,\n",
    "    num_accounts_c: int,\n",
    "    num_accounts_u: int,\n",
    "    tweets_day_a: float,\n",
    "    tweets_day_c: float,\n",
    "    tweets_day_u: float,\n",
    "    retweets_day_a: float,\n",
    "    retweets_day_c: float,\n",
    "    retweets_day_u: float,\n",
    "    num_comms_a: int,\n",
    "    num_comms_c: int,\n",
    "    num_comms_u: int,\n",
    "    largest_a: int,\n",
    "    largest_c: int,\n",
    "    largest_u: int,\n",
    "):\n",
    "    total_accounts = num_accounts_a + num_accounts_u + num_accounts_c\n",
    "    total_communities = num_comms_a + num_comms_u + num_comms_c\n",
    "    subs = {\n",
    "        \"period\": period,\n",
    "        \"num_accounts_a\": num_accounts_a,\n",
    "        \"num_accounts_c\" : num_accounts_c,\n",
    "        \"num_accounts_u\": num_accounts_u,\n",
    "        \"pct_accounts_a\": round(100 * num_accounts_a / total_accounts, 2),\n",
    "        \"pct_accounts_c\": round(100 * num_accounts_c / total_accounts, 2),\n",
    "        \"pct_accounts_u\": round(100 * num_accounts_u / total_accounts, 2),\n",
    "        \"tweets_day_a\": round(tweets_day_a, 2),\n",
    "        \"tweets_day_c\": round(tweets_day_c, 2),\n",
    "        \"tweets_day_u\": round(tweets_day_u, 2),\n",
    "        \"retweets_day_a\": round(retweets_day_a, 2),\n",
    "        \"retweets_day_c\": round(retweets_day_c, 2),\n",
    "        \"retweets_day_u\": round(retweets_day_u, 2),\n",
    "        \"num_comms_a\": num_comms_a,\n",
    "        \"num_comms_c\": num_comms_c,\n",
    "        \"num_comms_u\": num_comms_u,\n",
    "        \"pct_comms_a\": round(100 * num_comms_a / total_communities, 2),\n",
    "        \"pct_comms_c\": round(100 * num_comms_c / total_communities, 2),\n",
    "        \"pct_comms_u\": round(100 * num_comms_u / total_communities, 2),\n",
    "        \"largest_a\": largest_a,\n",
    "        \"largest_c\": largest_c,\n",
    "        \"largest_u\": largest_u,\n",
    "    }\n",
    "    return period_template.safe_substitute(subs)"
   ]
  },
  {
   "cell_type": "code",
   "execution_count": 12,
   "metadata": {},
   "outputs": [
    {
     "output_type": "stream",
     "name": "stdout",
     "text": [
      "-1 606\n1 24675\n"
     ]
    }
   ],
   "source": [
    "db_path = \"D:/BLM-db/blm.db\"\n",
    "query = \\\n",
    "\"SELECT Stance, COUNT(*) \"\\\n",
    "\"FROM Community c JOIN AccountActivity aa \"\\\n",
    "\"ON c.CommunityId = aa.CommunityId \"\\\n",
    "\"WHERE c.PeriodId = 1 and aa.PeriodId = 1 \" \\\n",
    "\"GROUP BY c.Stance \"\\\n",
    "\"\"\n",
    "conn = sql.connect(db_path)\n",
    "with conn:\n",
    "    cur = conn.cursor()\n",
    "    cur.execute(query)\n",
    "    results = cur.fetchall()\n",
    "\n",
    "for result in results:\n",
    "    print(result[0], result[1])"
   ]
  },
  {
   "cell_type": "code",
   "execution_count": 85,
   "metadata": {},
   "outputs": [
    {
     "output_type": "stream",
     "name": "stdout",
     "text": [
      "   Stance  NumAccounts  AvgTweets  AvgRetweets\n0       1       199286   4.112005     2.681272\n1       0          460  19.004348     0.997826\n2      -1        14492   3.376484     1.979851\n"
     ]
    },
    {
     "output_type": "execute_result",
     "data": {
      "text/plain": [
       "(199286, 460)"
      ]
     },
     "metadata": {},
     "execution_count": 85
    }
   ],
   "source": [
    "def get_account_stats(period):\n",
    "    query = \\\n",
    "    \"SELECT Stance, COUNT(*), AVG(a.NumTweets), AVG(a.NumRetweets) \" \\\n",
    "    \"FROM Community c JOIN AccountActivity a \" \\\n",
    "    \"ON c.CommunityId = a.CommunityId \" \\\n",
    "    \"WHERE c.PeriodId = ? and a.PeriodId = ? \" \\\n",
    "    \"GROUP BY Stance \" \\\n",
    "    \"ORDER BY Stance DESC\"\n",
    "    with conn:\n",
    "        cur = conn.cursor()\n",
    "        cur.execute(query, (period, period))\n",
    "        results = cur.fetchall()\n",
    "        #cur.execute(query_u, (period,))\n",
    "        #u_result = cur.fetchone()\n",
    "    # results = [ca_results[0], ca_results[1]]#, u_result]\n",
    "    if len(results) == 2: # no unknown communities\n",
    "        results = [results[0], (0, 0, 0.0, 0.0), results[1]]\n",
    "    return pd.DataFrame(data=results, columns=[\"Stance\", \"NumAccounts\", \"AvgTweets\", \"AvgRetweets\"])\n",
    "\n",
    "adf = get_account_stats(3)\n",
    "print(adf)\n",
    "adf.NumAccounts[0], adf.NumAccounts[1]"
   ]
  },
  {
   "cell_type": "code",
   "execution_count": 79,
   "metadata": {},
   "outputs": [
    {
     "output_type": "execute_result",
     "data": {
      "text/plain": [
       "   Stance  NumCommunities  MaxSize\n",
       "0       1              61    25206\n",
       "1       0              14       11\n",
       "2      -1               2     9503"
      ],
      "text/html": "<div>\n<style scoped>\n    .dataframe tbody tr th:only-of-type {\n        vertical-align: middle;\n    }\n\n    .dataframe tbody tr th {\n        vertical-align: top;\n    }\n\n    .dataframe thead th {\n        text-align: right;\n    }\n</style>\n<table border=\"1\" class=\"dataframe\">\n  <thead>\n    <tr style=\"text-align: right;\">\n      <th></th>\n      <th>Stance</th>\n      <th>NumCommunities</th>\n      <th>MaxSize</th>\n    </tr>\n  </thead>\n  <tbody>\n    <tr>\n      <th>0</th>\n      <td>1</td>\n      <td>61</td>\n      <td>25206</td>\n    </tr>\n    <tr>\n      <th>1</th>\n      <td>0</td>\n      <td>14</td>\n      <td>11</td>\n    </tr>\n    <tr>\n      <th>2</th>\n      <td>-1</td>\n      <td>2</td>\n      <td>9503</td>\n    </tr>\n  </tbody>\n</table>\n</div>"
     },
     "metadata": {},
     "execution_count": 79
    }
   ],
   "source": [
    "def get_community_stats(period):\n",
    "    max_size_query = \\\n",
    "    \"WITH CommunityCounts As (\"\\\n",
    "    \"SELECT Stance, c.CommunityId, COUNT(*) as Size \"\\\n",
    "    \"FROM Community c JOIN AccountActivity a \"\\\n",
    "    \"ON c.CommunityId = a.CommunityId \" \\\n",
    "    \"WHERE c.PeriodId = ? and a.PeriodId = ? \" \\\n",
    "    \"GROUP BY c.CommunityId) \"\\\n",
    "    \"SELECT Stance, MAX(Size) FROM CommunityCounts \"\\\n",
    "    \"GROUP BY Stance \"\\\n",
    "    \"ORDER BY Stance DESC\"\n",
    "    num_communities_query = \\\n",
    "    \"SELECT Stance, COUNT(*) \"\\\n",
    "    \"FROM Community \"\\\n",
    "    \"WHERE PeriodId = ? \"\\\n",
    "    \"GROUP BY Stance \" \\\n",
    "    \"ORDER BY Stance DESC\"\n",
    "    with conn:\n",
    "        cur = conn.cursor()\n",
    "        cur.execute(max_size_query, (period, period))\n",
    "        max_size_results = cur.fetchall()\n",
    "        cur.execute(num_communities_query, (period,))\n",
    "        num_communities_results = cur.fetchall()\n",
    "    activist_row = [x for x in num_communities_results[0]] + [max_size_results[0][1]]\n",
    "    if len(max_size_results) == 2: # first period\n",
    "        unknown_row = [0, 0, 0]\n",
    "        counter_row = [x for x in num_communities_results[1]] + [max_size_results[1][1]]\n",
    "    else:\n",
    "        unknown_row = [x for x in num_communities_results[1]] + [max_size_results[1][1]]\n",
    "        counter_row = [x for x in num_communities_results[2]] + [max_size_results[2][1]]\n",
    "    rows = [activist_row, unknown_row, counter_row]\n",
    "    return pd.DataFrame(data=rows, columns=[\"Stance\", \"NumCommunities\", \"MaxSize\"])\n",
    "\n",
    "df = get_community_stats(2)\n",
    "df"
   ]
  },
  {
   "cell_type": "code",
   "execution_count": 81,
   "metadata": {},
   "outputs": [],
   "source": [
    "report = \"\"\n",
    "for period in range(1, 7):\n",
    "    acct_df = get_account_stats(period)\n",
    "    comm_df = get_community_stats(period)\n",
    "\n",
    "    # accounts info\n",
    "    num_accounts_a, num_accounts_u, num_accounts_c = acct_df.NumAccounts[0], acct_df.NumAccounts[1], acct_df.NumAccounts[2]\n",
    "    tweets_day_a, tweets_day_u, tweets_day_c = acct_df.AvgTweets[0], acct_df.AvgTweets[1], acct_df.AvgTweets[2]\n",
    "    retweets_day_a, retweets_day_u, retweets_day_c = acct_df.AvgRetweets[0], acct_df.AvgRetweets[1], acct_df.AvgRetweets[2]\n",
    "    \n",
    "    # communities info       \n",
    "    num_comms_a, num_comms_u, num_comms_c = comm_df.NumCommunities[0], comm_df.NumCommunities[1], comm_df.NumCommunities[2]\n",
    "    largest_a, largest_u, largest_c = comm_df.MaxSize[0], comm_df.MaxSize[1], comm_df.MaxSize[2]\n",
    "    report += period_overview_report(\n",
    "        period,\n",
    "        num_accounts_a,\n",
    "        num_accounts_c,\n",
    "        num_accounts_u,\n",
    "        tweets_day_a,\n",
    "        tweets_day_c,\n",
    "        tweets_day_u,\n",
    "        retweets_day_a,\n",
    "        retweets_day_c,\n",
    "        retweets_day_u,\n",
    "        num_comms_a,\n",
    "        num_comms_c,\n",
    "        num_comms_u,\n",
    "        largest_a,\n",
    "        largest_c,\n",
    "        largest_u\n",
    "    )\n",
    "report_path = \"D:/BLM/data/Reports/Overview.md\"\n",
    "with open(report_path, \"w\") as f:\n",
    "    f.write(report)\n"
   ]
  },
  {
   "cell_type": "code",
   "execution_count": null,
   "metadata": {},
   "outputs": [],
   "source": []
  }
 ]
}