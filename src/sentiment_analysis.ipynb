{
 "metadata": {
  "language_info": {
   "codemirror_mode": {
    "name": "ipython",
    "version": 3
   },
   "file_extension": ".py",
   "mimetype": "text/x-python",
   "name": "python",
   "nbconvert_exporter": "python",
   "pygments_lexer": "ipython3",
   "version": "3.8.3"
  },
  "orig_nbformat": 4,
  "kernelspec": {
   "name": "python3",
   "display_name": "Python 3.8.3 64-bit ('blm': conda)"
  },
  "interpreter": {
   "hash": "cffc5f2a9d67381facf27223a4588ad4e9006ed836e88cb14d06569e1c04153f"
  }
 },
 "nbformat": 4,
 "nbformat_minor": 2,
 "cells": [
  {
   "cell_type": "code",
   "execution_count": 2,
   "metadata": {},
   "outputs": [
    {
     "output_type": "stream",
     "name": "stderr",
     "text": [
      "[nltk_data] Downloading package vader_lexicon to\n[nltk_data]     C:\\Users\\chris\\AppData\\Roaming\\nltk_data...\n[nltk_data]   Package vader_lexicon is already up-to-date!\n"
     ]
    }
   ],
   "source": [
    "from scipy import stats\n",
    "\n",
    "from blm_activity_db import BlmActivityDb\n",
    "from tweet_mgr import Stance"
   ]
  },
  {
   "cell_type": "code",
   "execution_count": 11,
   "metadata": {},
   "outputs": [],
   "source": [
    "# get sentiment for each account by stance in a period\n",
    "query = \\\n",
    "\"\"\"\n",
    "SELECT \n",
    "    Stance, AA.Sentiment\n",
    "FROM\n",
    "    AccountActivity AA JOIN Community C \n",
    "ON\n",
    "    AA.CommunityId = C.CommunityId\n",
    "WHERE\n",
    "    AA.PeriodId = ?\n",
    "AND\n",
    "    C.PeriodId = ?\n",
    "\"\"\"\n",
    "def get_account_sentiment_by_stance(period: int):\n",
    "    \"\"\"Returns Tuple[List[float], List[float]] for (activists, counter-protesters)\"\"\"\n",
    "    blm_scores, c_scores = [], []\n",
    "    db = BlmActivityDb()\n",
    "    with db.conn as conn:\n",
    "        cur = conn.cursor()\n",
    "        cur.execute(query, (period, period))\n",
    "        rows = cur.fetchall()\n",
    "    for row in rows:\n",
    "        if row[0] == Stance.Protest:\n",
    "            blm_scores.append(row[1])\n",
    "        elif row[0] == Stance.CounterProtest:\n",
    "            c_scores.append(row[1])\n",
    "    return blm_scores, c_scores\n",
    "\n",
    "scores_tuples = []\n",
    "for i in range(1, 7):\n",
    "    scores_tuples.append(get_account_sentiment_by_stance(i))\n"
   ]
  },
  {
   "cell_type": "code",
   "execution_count": 17,
   "metadata": {},
   "outputs": [
    {
     "output_type": "stream",
     "name": "stdout",
     "text": [
      "21.3270709416587 2.2915099295694744e-76\n41.042864280428994 0.0\n71.54591779565308 0.0\n-20.142805229351573 4.374238521134395e-24\n136.81543812827917 0.0\n94.31817708468536 0.0\n"
     ]
    }
   ],
   "source": [
    "for tup in scores_tuples:\n",
    "    t, p = stats.ttest_ind(tup[0], tup[1], equal_var=False)\n",
    "    print(t, p)"
   ]
  },
  {
   "cell_type": "code",
   "execution_count": null,
   "metadata": {},
   "outputs": [],
   "source": []
  }
 ]
}