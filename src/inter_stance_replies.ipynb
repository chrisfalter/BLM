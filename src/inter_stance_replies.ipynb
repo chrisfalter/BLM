{
 "metadata": {
  "language_info": {
   "codemirror_mode": {
    "name": "ipython",
    "version": 3
   },
   "file_extension": ".py",
   "mimetype": "text/x-python",
   "name": "python",
   "nbconvert_exporter": "python",
   "pygments_lexer": "ipython3",
   "version": "3.8.3"
  },
  "orig_nbformat": 4,
  "kernelspec": {
   "name": "python3",
   "display_name": "Python 3.8.3 64-bit ('blm': conda)"
  },
  "interpreter": {
   "hash": "cffc5f2a9d67381facf27223a4588ad4e9006ed836e88cb14d06569e1c04153f"
  }
 },
 "nbformat": 4,
 "nbformat_minor": 2,
 "cells": [
  {
   "cell_type": "code",
   "execution_count": 9,
   "metadata": {},
   "outputs": [],
   "source": [
    "import pandas as pd\n",
    "import sqlite3 as sql \n",
    "\n",
    "from blm_activity_db import BlmActivityDb"
   ]
  },
  {
   "cell_type": "code",
   "execution_count": 22,
   "metadata": {},
   "outputs": [],
   "source": [
    "blm_replies_query = \\\n",
    "\"\"\"\n",
    "WITH BlmCommunities as (\n",
    "    SELECT CommunityId\n",
    "    FROM Community\n",
    "    WHERE PeriodId = ? and Stance = 1\n",
    "), CounterCommunities as (\n",
    "    SELECT CommunityId\n",
    "    FROM Community\n",
    "    WHERE PeriodId = ? and Stance = -1\n",
    ")\n",
    "SELECT\n",
    "    PeriodId,\n",
    "    ReplyingAccountId,\n",
    "    RepliedToAccountId,\n",
    "    ReplyingCommunityId,\n",
    "    RepliedToCommunityId,\n",
    "    NumRetweets\n",
    "FROM \n",
    "    InterCommunityReply cr\n",
    "WHERE \n",
    "    PeriodId = ?\n",
    "AND\n",
    "    ReplyingCommunityId in BlmCommunities\n",
    "AND\n",
    "    RepliedToCommunityId in CounterCommunities\"\"\"\n",
    "counter_replies_query = \\\n",
    "\"\"\"\n",
    "WITH BlmCommunities as (\n",
    "    SELECT CommunityId\n",
    "    FROM Community\n",
    "    WHERE PeriodId = ? and Stance = 1\n",
    "), CounterCommunities as (\n",
    "    SELECT CommunityId\n",
    "    FROM Community\n",
    "    WHERE PeriodId = ? and Stance = -1\n",
    ")\n",
    "SELECT\n",
    "    PeriodId,\n",
    "    ReplyingAccountId,\n",
    "    RepliedToAccountId,\n",
    "    ReplyingCommunityId,\n",
    "    RepliedToCommunityId,\n",
    "    NumRetweets\n",
    "FROM \n",
    "    InterCommunityReply\n",
    "WHERE \n",
    "    PeriodId = ?\n",
    "AND\n",
    "    ReplyingCommunityId in CounterCommunities\n",
    "AND\n",
    "    RepliedToCommunityId in BlmCommunities\"\"\"\n",
    "cols = [\"PeriodId\", \"ReplyingAccountId\", \"RepliedToAccountId\", \"ReplyingCommunityId\", \"RepliedToCommunityId\", \"NumTweets\"]\n",
    "def get_interstance_replies_for_period(period: int):\n",
    "    db = BlmActivityDb()\n",
    "    with db.conn as conn:\n",
    "        cur = conn.cursor()\n",
    "        cur.execute(blm_replies_query, (period, period, period))\n",
    "        blm_replies = cur.fetchall()\n",
    "        cur.execute(counter_replies_query, (period, period, period))\n",
    "        counter_replies= cur.fetchall()\n",
    "    activist_replies = pd.DataFrame(blm_replies, columns = cols) \n",
    "    counter_replies = pd.DataFrame(counter_replies, columns = cols)\n",
    "    return activist_replies, counter_replies\n",
    "    "
   ]
  },
  {
   "cell_type": "code",
   "execution_count": 24,
   "metadata": {},
   "outputs": [],
   "source": [
    "activist_reply_df, counter_reply_df = None, None\n",
    "first_period, last_period = 1, 6\n",
    "for i in range(first_period, last_period + 1):\n",
    "    activist_replies, counter_replies = get_interstance_replies_for_period(i)\n",
    "    if activist_reply_df is None:\n",
    "        activist_reply_df = activist_replies\n",
    "        counter_reply_df = counter_replies\n",
    "    else:\n",
    "        activist_reply_df = pd.concat([activist_reply_df, activist_replies], ignore_index = True)\n",
    "        counter_reply_df = pd.concat([counter_reply_df, counter_replies], ignore_index = True)\n"
   ]
  },
  {
   "cell_type": "code",
   "execution_count": 25,
   "metadata": {},
   "outputs": [
    {
     "output_type": "execute_result",
     "data": {
      "text/plain": [
       "     PeriodId ReplyingAccountId  ... RepliedToCommunityId NumTweets\n",
       "0           1         121572025  ...                   12         1\n",
       "1           1         121572025  ...                   12         1\n",
       "2           1         121572025  ...                   12         1\n",
       "3           1         121572025  ...                   12         1\n",
       "4           1         121572025  ...                   12         1\n",
       "...       ...               ...  ...                  ...       ...\n",
       "1257        3          97300546  ...                    2         1\n",
       "1258        3          97300546  ...                    2         1\n",
       "1259        3         975364111  ...                    2         1\n",
       "1260        3          98221214  ...                    2         1\n",
       "1261        3         989458314  ...                    2         1\n",
       "\n",
       "[1262 rows x 6 columns]"
      ],
      "text/html": "<div>\n<style scoped>\n    .dataframe tbody tr th:only-of-type {\n        vertical-align: middle;\n    }\n\n    .dataframe tbody tr th {\n        vertical-align: top;\n    }\n\n    .dataframe thead th {\n        text-align: right;\n    }\n</style>\n<table border=\"1\" class=\"dataframe\">\n  <thead>\n    <tr style=\"text-align: right;\">\n      <th></th>\n      <th>PeriodId</th>\n      <th>ReplyingAccountId</th>\n      <th>RepliedToAccountId</th>\n      <th>ReplyingCommunityId</th>\n      <th>RepliedToCommunityId</th>\n      <th>NumTweets</th>\n    </tr>\n  </thead>\n  <tbody>\n    <tr>\n      <th>0</th>\n      <td>1</td>\n      <td>121572025</td>\n      <td>249665794</td>\n      <td>0</td>\n      <td>12</td>\n      <td>1</td>\n    </tr>\n    <tr>\n      <th>1</th>\n      <td>1</td>\n      <td>121572025</td>\n      <td>2741492717</td>\n      <td>0</td>\n      <td>12</td>\n      <td>1</td>\n    </tr>\n    <tr>\n      <th>2</th>\n      <td>1</td>\n      <td>121572025</td>\n      <td>2810211210</td>\n      <td>0</td>\n      <td>12</td>\n      <td>1</td>\n    </tr>\n    <tr>\n      <th>3</th>\n      <td>1</td>\n      <td>121572025</td>\n      <td>2817644011</td>\n      <td>0</td>\n      <td>12</td>\n      <td>1</td>\n    </tr>\n    <tr>\n      <th>4</th>\n      <td>1</td>\n      <td>121572025</td>\n      <td>53446001</td>\n      <td>0</td>\n      <td>12</td>\n      <td>1</td>\n    </tr>\n    <tr>\n      <th>...</th>\n      <td>...</td>\n      <td>...</td>\n      <td>...</td>\n      <td>...</td>\n      <td>...</td>\n      <td>...</td>\n    </tr>\n    <tr>\n      <th>1257</th>\n      <td>3</td>\n      <td>97300546</td>\n      <td>2217007286</td>\n      <td>12</td>\n      <td>2</td>\n      <td>1</td>\n    </tr>\n    <tr>\n      <th>1258</th>\n      <td>3</td>\n      <td>97300546</td>\n      <td>2909731363</td>\n      <td>12</td>\n      <td>2</td>\n      <td>1</td>\n    </tr>\n    <tr>\n      <th>1259</th>\n      <td>3</td>\n      <td>975364111</td>\n      <td>195271137</td>\n      <td>3</td>\n      <td>2</td>\n      <td>1</td>\n    </tr>\n    <tr>\n      <th>1260</th>\n      <td>3</td>\n      <td>98221214</td>\n      <td>2269674122</td>\n      <td>57</td>\n      <td>2</td>\n      <td>1</td>\n    </tr>\n    <tr>\n      <th>1261</th>\n      <td>3</td>\n      <td>989458314</td>\n      <td>105551150</td>\n      <td>1</td>\n      <td>2</td>\n      <td>1</td>\n    </tr>\n  </tbody>\n</table>\n<p>1262 rows × 6 columns</p>\n</div>"
     },
     "metadata": {},
     "execution_count": 25
    }
   ],
   "source": [
    "activist_reply_df"
   ]
  },
  {
   "cell_type": "code",
   "execution_count": 26,
   "metadata": {},
   "outputs": [
    {
     "output_type": "execute_result",
     "data": {
      "text/plain": [
       "     PeriodId ReplyingAccountId  ... RepliedToCommunityId NumTweets\n",
       "0           1         105214234  ...                    0         2\n",
       "1           1        1249578344  ...                   25         1\n",
       "2           1        1482990582  ...                    2         1\n",
       "3           1        1562746416  ...                    7         1\n",
       "4           1         160599290  ...                    5         1\n",
       "...       ...               ...  ...                  ...       ...\n",
       "1421        3         961523510  ...                    1         2\n",
       "1422        3          96681919  ...                    1         1\n",
       "1423        3         977420312  ...                    4         1\n",
       "1424        3         993021234  ...                    1         1\n",
       "1425        3         993021234  ...                    0         1\n",
       "\n",
       "[1426 rows x 6 columns]"
      ],
      "text/html": "<div>\n<style scoped>\n    .dataframe tbody tr th:only-of-type {\n        vertical-align: middle;\n    }\n\n    .dataframe tbody tr th {\n        vertical-align: top;\n    }\n\n    .dataframe thead th {\n        text-align: right;\n    }\n</style>\n<table border=\"1\" class=\"dataframe\">\n  <thead>\n    <tr style=\"text-align: right;\">\n      <th></th>\n      <th>PeriodId</th>\n      <th>ReplyingAccountId</th>\n      <th>RepliedToAccountId</th>\n      <th>ReplyingCommunityId</th>\n      <th>RepliedToCommunityId</th>\n      <th>NumTweets</th>\n    </tr>\n  </thead>\n  <tbody>\n    <tr>\n      <th>0</th>\n      <td>1</td>\n      <td>105214234</td>\n      <td>218113799</td>\n      <td>12</td>\n      <td>0</td>\n      <td>2</td>\n    </tr>\n    <tr>\n      <th>1</th>\n      <td>1</td>\n      <td>1249578344</td>\n      <td>21314814</td>\n      <td>12</td>\n      <td>25</td>\n      <td>1</td>\n    </tr>\n    <tr>\n      <th>2</th>\n      <td>1</td>\n      <td>1482990582</td>\n      <td>600397644</td>\n      <td>12</td>\n      <td>2</td>\n      <td>1</td>\n    </tr>\n    <tr>\n      <th>3</th>\n      <td>1</td>\n      <td>1562746416</td>\n      <td>2812497540</td>\n      <td>12</td>\n      <td>7</td>\n      <td>1</td>\n    </tr>\n    <tr>\n      <th>4</th>\n      <td>1</td>\n      <td>160599290</td>\n      <td>2191370758</td>\n      <td>12</td>\n      <td>5</td>\n      <td>1</td>\n    </tr>\n    <tr>\n      <th>...</th>\n      <td>...</td>\n      <td>...</td>\n      <td>...</td>\n      <td>...</td>\n      <td>...</td>\n      <td>...</td>\n    </tr>\n    <tr>\n      <th>1421</th>\n      <td>3</td>\n      <td>961523510</td>\n      <td>14235078</td>\n      <td>2</td>\n      <td>1</td>\n      <td>2</td>\n    </tr>\n    <tr>\n      <th>1422</th>\n      <td>3</td>\n      <td>96681919</td>\n      <td>311660957</td>\n      <td>2</td>\n      <td>1</td>\n      <td>1</td>\n    </tr>\n    <tr>\n      <th>1423</th>\n      <td>3</td>\n      <td>977420312</td>\n      <td>13393052</td>\n      <td>2</td>\n      <td>4</td>\n      <td>1</td>\n    </tr>\n    <tr>\n      <th>1424</th>\n      <td>3</td>\n      <td>993021234</td>\n      <td>17579643</td>\n      <td>2</td>\n      <td>1</td>\n      <td>1</td>\n    </tr>\n    <tr>\n      <th>1425</th>\n      <td>3</td>\n      <td>993021234</td>\n      <td>325076723</td>\n      <td>2</td>\n      <td>0</td>\n      <td>1</td>\n    </tr>\n  </tbody>\n</table>\n<p>1426 rows × 6 columns</p>\n</div>"
     },
     "metadata": {},
     "execution_count": 26
    }
   ],
   "source": [
    "counter_reply_df"
   ]
  },
  {
   "cell_type": "code",
   "execution_count": 27,
   "metadata": {},
   "outputs": [
    {
     "output_type": "execute_result",
     "data": {
      "text/plain": [
       "(array([1, 2, 3], dtype=object), array([1, 2, 3], dtype=object))"
      ]
     },
     "metadata": {},
     "execution_count": 27
    }
   ],
   "source": [
    "activist_reply_df.PeriodId.unique(), counter_reply_df.PeriodId.unique()"
   ]
  },
  {
   "cell_type": "code",
   "execution_count": 30,
   "metadata": {},
   "outputs": [
    {
     "output_type": "execute_result",
     "data": {
      "text/plain": [
       "[1, 2, 3, 4, 5, 6]"
      ]
     },
     "metadata": {},
     "execution_count": 30
    }
   ],
   "source": [
    "query = \"SELECT distinct PeriodId FROM InterCommunityRetweet\"\n",
    "with db.conn:\n",
    "    cur = db.conn.cursor()\n",
    "    cur.execute(query)\n",
    "    rows = cur.fetchall()\n",
    "[row[0] for row in rows]"
   ]
  },
  {
   "cell_type": "code",
   "execution_count": null,
   "metadata": {},
   "outputs": [],
   "source": []
  }
 ]
}