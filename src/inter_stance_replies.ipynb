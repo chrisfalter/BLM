{
 "metadata": {
  "language_info": {
   "codemirror_mode": {
    "name": "ipython",
    "version": 3
   },
   "file_extension": ".py",
   "mimetype": "text/x-python",
   "name": "python",
   "nbconvert_exporter": "python",
   "pygments_lexer": "ipython3",
   "version": "3.8.3"
  },
  "orig_nbformat": 4,
  "kernelspec": {
   "name": "python3",
   "display_name": "Python 3.8.3 64-bit ('blm': conda)"
  },
  "interpreter": {
   "hash": "cffc5f2a9d67381facf27223a4588ad4e9006ed836e88cb14d06569e1c04153f"
  }
 },
 "nbformat": 4,
 "nbformat_minor": 2,
 "cells": [
  {
   "cell_type": "code",
   "execution_count": 1,
   "metadata": {},
   "outputs": [],
   "source": [
    "import pandas as pd\n",
    "import sqlite3 as sql \n",
    "\n",
    "from blm_activity_db import BlmActivityDb"
   ]
  },
  {
   "cell_type": "code",
   "execution_count": 7,
   "metadata": {},
   "outputs": [],
   "source": [
    "def get_interstance_replies_for_period(period: int):\n",
    "    db = BlmActivityDb()\n",
    "    all_replies_df = db.inter_community_reply_counts_by_period(1)\n",
    "    blm_communities_query = \"SELECT CommunityId from Community WHERE PeriodId = ? and Stance = 1\"\n",
    "    counter_communities_query = \"SELECT CommunityId from Community WHERE PeriodId = ? and Stance = -1\"\n",
    "    with db.conn as conn:\n",
    "        cur = conn.cursor()\n",
    "        cur.execute(blm_communities_query, (period,))\n",
    "        blm_comms = [x[0] for x in cur.fetchall()]\n",
    "        cur.execute(counter_communities_query, (period,))\n",
    "        counter_comms = [x[0] for x in cur.fetchall()]\n",
    "    replies_to_counter = all_replies_df.query(\n",
    "        f\"ReplyingComm in {blm_comms} and RepliedToComm in {counter_comms}\"\n",
    "    )\n",
    "    replies_to_activists = all_replies_df.query(\n",
    "        f\"ReplyingComm in {blm_comms} and RepliedToComm in {counter_comms}\"\n",
    "    )\n",
    "    return replies_to_counter, replies_to_activists\n",
    "    "
   ]
  },
  {
   "cell_type": "code",
   "execution_count": null,
   "metadata": {},
   "outputs": [],
   "source": [
    "\n",
    "first_period, last_period = 1, 6\n",
    "for i in range(first_period, last_period + 1):\n",
    "    replies_to_counter, replies_to_activists = get_interstance_replies_for_period(i)\n"
   ]
  },
  {
   "cell_type": "code",
   "execution_count": null,
   "metadata": {},
   "outputs": [],
   "source": []
  }
 ]
}