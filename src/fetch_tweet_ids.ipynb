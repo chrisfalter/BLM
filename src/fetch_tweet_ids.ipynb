{
 "metadata": {
  "language_info": {
   "codemirror_mode": {
    "name": "ipython",
    "version": 3
   },
   "file_extension": ".py",
   "mimetype": "text/x-python",
   "name": "python",
   "nbconvert_exporter": "python",
   "pygments_lexer": "ipython3",
   "version": "3.8.3"
  },
  "orig_nbformat": 4,
  "kernelspec": {
   "name": "python3",
   "display_name": "Python 3.8.3 64-bit ('blm': conda)"
  },
  "interpreter": {
   "hash": "cffc5f2a9d67381facf27223a4588ad4e9006ed836e88cb14d06569e1c04153f"
  }
 },
 "nbformat": 4,
 "nbformat_minor": 2,
 "cells": [
  {
   "cell_type": "code",
   "execution_count": 1,
   "metadata": {},
   "outputs": [],
   "source": [
    "from elasticsearch import Elasticsearch as ES\n",
    "from elasticsearch.helpers import scan"
   ]
  },
  {
   "cell_type": "code",
   "execution_count": 5,
   "metadata": {},
   "outputs": [],
   "source": [
    "query_body = {\n",
    "    \"query\": {\n",
    "        \"range\": {\n",
    "            \"doc.created_at\": {\n",
    "                \"gte\": \"Wed Jan 01 00:00:00 +0000 2020\",\n",
    "                \"lt\": \"Sun Nov 01 00:00:00 +0000 2020\"\n",
    "            }\n",
    "        }\n",
    "    },\n",
    "    \"_source\": [\"doc.id\"]\n",
    "}"
   ]
  },
  {
   "cell_type": "code",
   "execution_count": 6,
   "metadata": {},
   "outputs": [],
   "source": [
    "ids = []\n",
    "es = ES(hosts=[\"localhost\"])\n",
    "scan_iter = scan(es, index=\"tweets2\", query=query_body)\n",
    "for result in scan_iter:\n",
    "    ids.append(result['_source'][\"doc\"][\"id\"])\n"
   ]
  },
  {
   "cell_type": "code",
   "execution_count": 12,
   "metadata": {},
   "outputs": [],
   "source": [
    "ids = sorted(ids)\n",
    "with open('../data/tweets2_tweet_ids.txt', 'w') as f:\n",
    "    for id_ in ids:\n",
    "        f.write(str(id_) + '\\n')"
   ]
  },
  {
   "cell_type": "code",
   "execution_count": null,
   "metadata": {},
   "outputs": [],
   "source": []
  }
 ]
}