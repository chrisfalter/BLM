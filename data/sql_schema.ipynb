{
 "metadata": {
  "language_info": {
   "codemirror_mode": {
    "name": "ipython",
    "version": 3
   },
   "file_extension": ".py",
   "mimetype": "text/x-python",
   "name": "python",
   "nbconvert_exporter": "python",
   "pygments_lexer": "ipython3",
   "version": "3.8.3-final"
  },
  "orig_nbformat": 2,
  "kernelspec": {
   "name": "python3",
   "display_name": "Python 3.8.3 64-bit",
   "metadata": {
    "interpreter": {
     "hash": "cffc5f2a9d67381facf27223a4588ad4e9006ed836e88cb14d06569e1c04153f"
    }
   }
  }
 },
 "nbformat": 4,
 "nbformat_minor": 2,
 "cells": [
  {
   "cell_type": "code",
   "execution_count": 1,
   "metadata": {},
   "outputs": [],
   "source": [
    "import sqlite3 as sql\n"
   ]
  },
  {
   "cell_type": "code",
   "execution_count": 2,
   "metadata": {},
   "outputs": [],
   "source": [
    "db_file = \"db/blm.db\"\n",
    "\n",
    "account_table = \\\n",
    "    \"\"\"CREATE TABLE Account (\n",
    "        AccountId TEXT PRIMARY KEY\n",
    "    ) without RowId\"\"\"\n",
    "community_table = \\\n",
    "    \"\"\"CREATE TABLE Community (\n",
    "        PeriodId INT,\n",
    "        CommunityId INT,\n",
    "        BlmSupport INT,\n",
    "        Sentiment REAL,\n",
    "        PRIMARY KEY (PeriodId, CommunityId)\n",
    "    ) without RowId\"\"\"\n",
    "account_community_table = \\\n",
    "    \"\"\"CREATE TABLE AccountCommunity (\n",
    "        AccountId TEXT,\n",
    "        PeriodId INT,\n",
    "        CommunityId INT,\n",
    "        PRIMARY KEY (AccountId, PeriodId, CommunityId),\n",
    "        FOREIGN KEY (AccountId) REFERENCES Account (AccountId),\n",
    "        FOREIGN KEY (PeriodId, CommunityId) REFERENCES Community (PeriodId, CommunityId)\n",
    "    ) without RowId\"\"\"\n",
    "retweet_table = \\\n",
    "    \"\"\"CREATE TABLE Retweet (\n",
    "        SourceAccountId TEXT,\n",
    "        RetweetAccountId TEXT,\n",
    "        PeriodId INT,\n",
    "        Count INT,\n",
    "        PRIMARY KEY (SourceAccountId, RetweetAccountId, PeriodId),\n",
    "        FOREIGN KEY (SourceAccountId) REFERENCES Account (AccountId),\n",
    "        FOREIGN KEY (RetweetAccountId) REFERENCES Account (AccountId)\n",
    "    ) without RowId\"\"\"\n",
    "reply_table = \\\n",
    "    \"\"\"CREATE TABLE Reply (\n",
    "        ToAccountId TEXT,\n",
    "        ReplyAccountId TEXT,\n",
    "        PeriodId INT,\n",
    "        Count INT,\n",
    "        PRIMARY KEY (ToAccountId, ReplyAccountId, PeriodId),\n",
    "        FOREIGN KEY (ToAccountId) REFERENCES Account (AccountId),\n",
    "        FOREIGN KEY (ReplyAccountId) REFERENCES Account (AccountId)\n",
    "    ) without RowId\"\"\"    \n",
    "\n",
    "conn = None\n",
    "try:\n",
    "    conn = sql.connect(db_file) \n",
    "    with conn:\n",
    "        cur = conn.cursor()\n",
    "        cur.execute(account_table)\n",
    "        cur.execute(community_table)\n",
    "        cur.execute(account_community_table)\n",
    "        cur.execute(retweet_table)\n",
    "        cur.execute(reply_table)\n",
    "finally:\n",
    "    if conn:\n",
    "        conn.close()"
   ]
  },
  {
   "cell_type": "code",
   "execution_count": null,
   "metadata": {},
   "outputs": [],
   "source": []
  }
 ]
}